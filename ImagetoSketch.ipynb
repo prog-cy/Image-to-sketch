{
 "cells": [
  {
   "cell_type": "markdown",
   "id": "d3d9595d",
   "metadata": {},
   "source": [
    "# Image to pencil sketch using opencv"
   ]
  },
  {
   "cell_type": "code",
   "execution_count": 5,
   "id": "5af80b63",
   "metadata": {},
   "outputs": [
    {
     "name": "stdout",
     "output_type": "stream",
     "text": [
      "Python 3.9.7\n"
     ]
    }
   ],
   "source": [
    "!python --version"
   ]
  },
  {
   "cell_type": "code",
   "execution_count": 6,
   "id": "8be8db7a",
   "metadata": {},
   "outputs": [
    {
     "name": "stdout",
     "output_type": "stream",
     "text": [
      "Collecting opencv-python\n",
      "  Downloading opencv_python-4.5.5.64-cp36-abi3-win_amd64.whl (35.4 MB)\n",
      "Requirement already satisfied: numpy>=1.17.3 in c:\\users\\user\\anaconda3\\lib\\site-packages (from opencv-python) (1.20.3)\n",
      "Installing collected packages: opencv-python\n",
      "Successfully installed opencv-python-4.5.5.64\n"
     ]
    }
   ],
   "source": [
    "!pip install opencv-python"
   ]
  },
  {
   "cell_type": "code",
   "execution_count": 7,
   "id": "2eb32171",
   "metadata": {},
   "outputs": [],
   "source": [
    "import cv2"
   ]
  },
  {
   "cell_type": "code",
   "execution_count": 3,
   "id": "074b278c",
   "metadata": {},
   "outputs": [],
   "source": [
    "import cv2\n",
    "from PIL import Image\n",
    "\n",
    "image = cv2.imread(\"cat.png\")\n",
    "gray_image = cv2.cvtColor(image, cv2.COLOR_BGR2GRAY)\n",
    "inverted = 255-gray_image\n",
    "blur = cv2.GaussianBlur(inverted, (21, 21), 0)\n",
    "invertedblur = 255-blur\n",
    "sketch = cv2.divide(gray_image, invertedblur, scale=256.0)\n",
    "cv2.imwrite(\"sketch_image.png\", sketch)\n",
    "\n",
    "#Real Image\n",
    "rimg = Image.open(\"cat.png\")\n",
    "rimg.show()\n",
    "\n",
    "#Sketched Image\n",
    "img = Image.open(\"sketch_image.png\")\n",
    "img.show()"
   ]
  },
  {
   "cell_type": "code",
   "execution_count": 11,
   "id": "9f916309",
   "metadata": {},
   "outputs": [],
   "source": [
    "import cv2\n",
    "from PIL import Image\n",
    "\n",
    "image = cv2.imread(\"mypic.jpg\")\n",
    "gray_image = cv2.cvtColor(image, cv2.COLOR_BGR2GRAY)\n",
    "inverted = 255-gray_image\n",
    "blur = cv2.GaussianBlur(inverted, (21, 21), 0)\n",
    "invertedblur = 255-blur\n",
    "sketch = cv2.divide(gray_image, invertedblur, scale=250.0)\n",
    "cv2.imwrite(\"sketch_myimage.png\", sketch)\n",
    "\n",
    "#Real Image\n",
    "rimg = Image.open(\"mypic.jpg\")\n",
    "rimg.show()\n",
    "\n",
    "#Sketched Image\n",
    "img = Image.open(\"sketch_myimage.png\")\n",
    "img.show()"
   ]
  },
  {
   "cell_type": "code",
   "execution_count": null,
   "id": "d53d2e0f",
   "metadata": {},
   "outputs": [],
   "source": []
  }
 ],
 "metadata": {
  "kernelspec": {
   "display_name": "Python 3 (ipykernel)",
   "language": "python",
   "name": "python3"
  },
  "language_info": {
   "codemirror_mode": {
    "name": "ipython",
    "version": 3
   },
   "file_extension": ".py",
   "mimetype": "text/x-python",
   "name": "python",
   "nbconvert_exporter": "python",
   "pygments_lexer": "ipython3",
   "version": "3.9.7"
  }
 },
 "nbformat": 4,
 "nbformat_minor": 5
}
